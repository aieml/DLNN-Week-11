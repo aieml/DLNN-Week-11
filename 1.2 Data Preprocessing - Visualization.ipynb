{
 "cells": [
  {
   "cell_type": "code",
   "execution_count": null,
   "metadata": {},
   "outputs": [],
   "source": [
    "import numpy as np\n",
    "\n",
    "dataset=np.load('data/timestamp_matched_dataset.npy')"
   ]
  },
  {
   "cell_type": "code",
   "execution_count": 1,
   "metadata": {},
   "outputs": [],
   "source": [
    "import os\n",
    "\n",
    "os.mkdir('graphs')"
   ]
  },
  {
   "cell_type": "code",
   "execution_count": null,
   "metadata": {},
   "outputs": [],
   "source": [
    "from matplotlib import pyplot as plt\n",
    "\n",
    "window_size=2500\n",
    "\n",
    "for i in range(0,len(dataset),window_size):\n",
    "    plt.plot(dataset[i:i+window_size,0],label='main')\n",
    "    plt.plot(dataset[i:i+window_size,1],label='appliance')\n",
    "    plt.xlabel('time/s')\n",
    "    plt.ylabel('power consumption/kWh')\n",
    "    plt.legend()\n",
    "    plt.savefig('graphs/window_'+str(i)+'.png')\n",
    "    plt.close()"
   ]
  }
 ],
 "metadata": {
  "kernelspec": {
   "display_name": "Python 3",
   "language": "python",
   "name": "python3"
  },
  "language_info": {
   "codemirror_mode": {
    "name": "ipython",
    "version": 3
   },
   "file_extension": ".py",
   "mimetype": "text/x-python",
   "name": "python",
   "nbconvert_exporter": "python",
   "pygments_lexer": "ipython3",
   "version": "3.7.4"
  }
 },
 "nbformat": 4,
 "nbformat_minor": 2
}
