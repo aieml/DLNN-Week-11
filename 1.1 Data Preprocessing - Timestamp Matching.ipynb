{
 "cells": [
  {
   "cell_type": "code",
   "execution_count": 2,
   "metadata": {},
   "outputs": [],
   "source": [
    "import numpy as np\n",
    "\n",
    "main_dataset=np.load('data/forward_filled_main.npy')\n",
    "appliance_dataset=np.load('data/forward_filled_appliance.npy')"
   ]
  },
  {
   "cell_type": "code",
   "execution_count": null,
   "metadata": {},
   "outputs": [],
   "source": [
    "new_dataset=[]\n",
    "\n",
    "for i,timestamp_main in enumerate(main_dataset[:,0]):\n",
    "    available=np.where(appliance_dataset[:,0]==timestamp_main)[0]\n",
    "    #checking whether the main timestamp is availble in the appliance[]\n",
    "    if(available.size!=0):\n",
    "        index=available[0]\n",
    "        new_dataset.append([main_dataset[i,1],appliance_dataset[index,1]])"
   ]
  },
  {
   "cell_type": "code",
   "execution_count": null,
   "metadata": {},
   "outputs": [],
   "source": [
    "dataset=np.array(new_dataset)\n",
    "np.save('data/timestamp_matched_dataset',dataset)"
   ]
  },
  {
   "cell_type": "code",
   "execution_count": null,
   "metadata": {},
   "outputs": [],
   "source": []
  }
 ],
 "metadata": {
  "kernelspec": {
   "display_name": "Python 3",
   "language": "python",
   "name": "python3"
  },
  "language_info": {
   "codemirror_mode": {
    "name": "ipython",
    "version": 3
   },
   "file_extension": ".py",
   "mimetype": "text/x-python",
   "name": "python",
   "nbconvert_exporter": "python",
   "pygments_lexer": "ipython3",
   "version": "3.7.4"
  }
 },
 "nbformat": 4,
 "nbformat_minor": 2
}
