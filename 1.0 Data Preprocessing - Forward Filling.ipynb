{
 "cells": [
  {
   "cell_type": "code",
   "execution_count": 1,
   "metadata": {},
   "outputs": [],
   "source": [
    "import pandas as pd\n",
    "import numpy as np\n",
    "import os\n",
    "\n",
    "main_dataset=pd.read_csv('low_freq/house_1/channel_1.dat',sep='\\s+').values\n",
    "appliance_dataset=pd.read_csv('low_freq/house_1/channel_5.dat',sep='\\s+').values"
   ]
  },
  {
   "cell_type": "code",
   "execution_count": 2,
   "metadata": {},
   "outputs": [
    {
     "name": "stdout",
     "output_type": "stream",
     "text": [
      "(1561659, 2)\n",
      "(745877, 2)\n"
     ]
    }
   ],
   "source": [
    "print(main_dataset.shape)\n",
    "print(appliance_dataset.shape)"
   ]
  },
  {
   "cell_type": "code",
   "execution_count": 3,
   "metadata": {},
   "outputs": [],
   "source": [
    "def forward_fill(dataset):\n",
    "    dataset=dataset[dataset[:,0].argsort()]\n",
    "    #arranging the dataset into the ascending order\n",
    "    time=np.array(dataset[:,0])\n",
    "    #getting the timestamp column\n",
    "    data=np.array(dataset[:,1])\n",
    "    #getting the power consumption column\n",
    "    \n",
    "    new_time=[]\n",
    "    new_data=[]\n",
    "    \n",
    "    for i in range(len(time)-1):\n",
    "        if(time[i+1]-time[i]!=1):\n",
    "            gap=time[i+1]-time[i]\n",
    "            if(gap<20):\n",
    "                for j in range(int(gap)): \n",
    "                    new_time.append(time[i]+j)\n",
    "                    new_data.append(data[i])\n",
    "            else:\n",
    "                new_time.append(time[i])\n",
    "                new_data.append(data[i])\n",
    "                print('GAP>20:',time[i],gap)\n",
    "        else:\n",
    "            new_time.append(time[i])\n",
    "            new_data.append(data[i])\n",
    "    \n",
    "    new_dataset=np.zeros((len(new_time),2))\n",
    "    \n",
    "    new_dataset[:,0]=np.array(new_time)\n",
    "    new_dataset[:,1]=np.array(new_data)\n",
    "    \n",
    "    return new_dataset"
   ]
  },
  {
   "cell_type": "code",
   "execution_count": 4,
   "metadata": {},
   "outputs": [
    {
     "name": "stdout",
     "output_type": "stream",
     "text": [
      "GAP>20: 1303149527.0 260.0\n",
      "GAP>20: 1303229618.0 39.0\n",
      "GAP>20: 1303253119.0 5689.0\n",
      "GAP>20: 1303278872.0 64.0\n",
      "GAP>20: 1303280894.0 38.0\n",
      "GAP>20: 1303290787.0 27.0\n",
      "GAP>20: 1303370229.0 10808.0\n",
      "GAP>20: 1303422306.0 6983.0\n",
      "GAP>20: 1303526817.0 96.0\n",
      "GAP>20: 1303631330.0 214.0\n",
      "GAP>20: 1303692396.0 41.0\n",
      "GAP>20: 1303887019.0 62.0\n",
      "GAP>20: 1303888654.0 221.0\n",
      "GAP>20: 1303984667.0 148367.0\n",
      "GAP>20: 1304257482.0 156.0\n",
      "GAP>20: 1304370299.0 148.0\n",
      "GAP>20: 1304458217.0 152.0\n",
      "GAP>20: 1304458424.0 235082.0\n",
      "GAP>20: 1304747590.0 45.0\n",
      "GAP>20: 1304750295.0 148.0\n",
      "GAP>20: 1304783956.0 314427.0\n",
      "GAP>20: 1305214011.0 23.0\n",
      "GAP>20: 1305236918.0 8752.0\n",
      "GAP>20: 1305278184.0 816502.0\n",
      "GAP>20: 1306121941.0 154.0\n",
      "GAP>20: 1306156928.0 4166.0\n",
      "GAP>20: 1306261925.0 5008.0\n",
      "---------------------------\n",
      "GAP>20: 1303149633.0 158.0\n",
      "GAP>20: 1303229613.0 35.0\n",
      "GAP>20: 1303253109.0 5696.0\n",
      "GAP>20: 1303278866.0 67.0\n",
      "GAP>20: 1303280888.0 48.0\n",
      "GAP>20: 1303380883.0 159.0\n",
      "GAP>20: 1303381088.0 23.0\n",
      "GAP>20: 1303422302.0 6981.0\n",
      "GAP>20: 1303526813.0 98.0\n",
      "GAP>20: 1303631324.0 224.0\n",
      "GAP>20: 1303631548.0 26.0\n",
      "GAP>20: 1303692393.0 40.0\n",
      "GAP>20: 1303887014.0 71.0\n",
      "GAP>20: 1303888651.0 228.0\n",
      "GAP>20: 1303888917.0 31.0\n",
      "GAP>20: 1304132872.0 166.0\n",
      "GAP>20: 1304257476.0 166.0\n",
      "GAP>20: 1304370294.0 157.0\n",
      "GAP>20: 1304370476.0 26.0\n",
      "GAP>20: 1304458212.0 161.0\n",
      "GAP>20: 1304458397.0 235113.0\n",
      "GAP>20: 1304693510.0 41.0\n",
      "GAP>20: 1304747586.0 46.0\n",
      "GAP>20: 1304750292.0 155.0\n",
      "GAP>20: 1304750475.0 25.0\n",
      "GAP>20: 1304875962.0 52.0\n",
      "GAP>20: 1305098174.0 213.0\n",
      "GAP>20: 1305098387.0 21.0\n",
      "GAP>20: 1305213986.0 44.0\n",
      "GAP>20: 1305236911.0 8756.0\n",
      "GAP>20: 1306040403.0 58.0\n",
      "GAP>20: 1306094634.0 56.0\n",
      "GAP>20: 1306121934.0 165.0\n",
      "GAP>20: 1306122099.0 22.0\n",
      "GAP>20: 1306156920.0 4171.0\n",
      "GAP>20: 1306261921.0 5017.0\n"
     ]
    }
   ],
   "source": [
    "main_dataset=forward_fill(main_dataset)\n",
    "print('---------------------------')\n",
    "appliance_dataset=forward_fill(appliance_dataset)"
   ]
  },
  {
   "cell_type": "code",
   "execution_count": 5,
   "metadata": {},
   "outputs": [],
   "source": [
    "np.save('data/forward_filled_main',main_dataset)\n",
    "np.save('data/forward_filled_appliance',appliance_dataset)"
   ]
  },
  {
   "cell_type": "code",
   "execution_count": 6,
   "metadata": {},
   "outputs": [
    {
     "name": "stdout",
     "output_type": "stream",
     "text": [
      "(1576447, 2)\n",
      "(2865578, 2)\n"
     ]
    }
   ],
   "source": [
    "print(main_dataset.shape)\n",
    "print(appliance_dataset.shape)"
   ]
  },
  {
   "cell_type": "code",
   "execution_count": null,
   "metadata": {},
   "outputs": [],
   "source": []
  }
 ],
 "metadata": {
  "kernelspec": {
   "display_name": "Python 3",
   "language": "python",
   "name": "python3"
  },
  "language_info": {
   "codemirror_mode": {
    "name": "ipython",
    "version": 3
   },
   "file_extension": ".py",
   "mimetype": "text/x-python",
   "name": "python",
   "nbconvert_exporter": "python",
   "pygments_lexer": "ipython3",
   "version": "3.7.4"
  }
 },
 "nbformat": 4,
 "nbformat_minor": 2
}
