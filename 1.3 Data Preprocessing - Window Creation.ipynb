{
 "cells": [
  {
   "cell_type": "code",
   "execution_count": null,
   "metadata": {},
   "outputs": [],
   "source": [
    "import numpy as np\n",
    "\n",
    "dataset=np.load('data/timestamp_matched_dataset.npy')\n",
    "\n",
    "data=[]\n",
    "target=[]\n",
    "\n",
    "window_size=2500\n",
    "\n",
    "#creating windows\n",
    "for i in range(0,len(dataset)-window_size,1):\n",
    "    data.append([dataset[i:i+window_size,0]])\n",
    "    target.append([dataset[i:i+window_size,1]])\n",
    "\n",
    "data=np.array(data)\n",
    "target=np.array(target)"
   ]
  },
  {
   "cell_type": "code",
   "execution_count": null,
   "metadata": {},
   "outputs": [],
   "source": [
    "np.save('data/data',data)\n",
    "np.save('data/target',target)"
   ]
  }
 ],
 "metadata": {
  "kernelspec": {
   "display_name": "Python 3",
   "language": "python",
   "name": "python3"
  },
  "language_info": {
   "codemirror_mode": {
    "name": "ipython",
    "version": 3
   },
   "file_extension": ".py",
   "mimetype": "text/x-python",
   "name": "python",
   "nbconvert_exporter": "python",
   "pygments_lexer": "ipython3",
   "version": "3.7.4"
  }
 },
 "nbformat": 4,
 "nbformat_minor": 2
}
